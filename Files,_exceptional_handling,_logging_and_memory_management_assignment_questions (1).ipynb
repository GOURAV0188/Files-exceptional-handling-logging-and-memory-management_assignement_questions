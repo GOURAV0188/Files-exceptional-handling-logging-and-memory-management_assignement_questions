{
  "nbformat": 4,
  "nbformat_minor": 0,
  "metadata": {
    "colab": {
      "provenance": []
    },
    "kernelspec": {
      "name": "python3",
      "display_name": "Python 3"
    },
    "language_info": {
      "name": "python"
    }
  },
  "cells": [
    {
      "cell_type": "code",
      "execution_count": null,
      "metadata": {
        "colab": {
          "base_uri": "https://localhost:8080/"
        },
        "id": "6FO5zGEkrFjG",
        "outputId": "7f23a26d-499c-41f8-848c-eb5e485d05af"
      },
      "outputs": [
        {
          "output_type": "stream",
          "name": "stdout",
          "text": [
            "Object `it` not found.\n"
          ]
        }
      ],
      "source": [
        "# 1. How can you open a file for writing in Python and write a string to it?\n",
        "# Answer =\n",
        "# Open a file for writing and write a string to it\n",
        "filename = \"example.txt\"\n",
        "with open(filename, 'w') as file:\n",
        "    file.write(\"This is a test string.\")\n",
        "print(f\"Data written to {filename}\")\n"
      ]
    },
    {
      "cell_type": "code",
      "source": [
        "\n",
        "# 2.Write a Python program to read the contents of a file and print each line?\n",
        "# Answer\n",
        "filename = \"example.txt\"\n",
        "try:\n",
        "    with open(filename, 'r') as file:\n",
        "        for line in file:\n",
        "            print(line.strip())  # Print each line without extra newline characters\n",
        "except FileNotFoundError:\n",
        "    print(f\"The file {filename} does not exist.\")\n"
      ],
      "metadata": {
        "id": "bA-ecfHTrN-d",
        "colab": {
          "base_uri": "https://localhost:8080/"
        },
        "outputId": "3de36e5c-d26f-4660-f333-461867d33213"
      },
      "execution_count": 24,
      "outputs": [
        {
          "output_type": "stream",
          "name": "stdout",
          "text": [
            "\n",
            "Adding more data.\n"
          ]
        }
      ]
    },
    {
      "cell_type": "code",
      "source": [
        "# 3.How would you handle a case where the file doesn't exist while trying to open it for reading?\n",
        "# Answer =\n",
        "filename = \"nonexistent.txt\"\n",
        "try:\n",
        "    with open(filename, 'r') as file:\n",
        "        print(file.read())\n",
        "except FileNotFoundError:\n",
        "    print(f\"Error: {filename} not found.\")\n"
      ],
      "metadata": {
        "id": "tpbp8891rlj2"
      },
      "execution_count": null,
      "outputs": []
    },
    {
      "cell_type": "code",
      "source": [
        "# 4.Write a Python script that reads from one file and writes its content to another file?\n",
        "# Answer =\n",
        "\n",
        "source_file = \"source.txt\"\n",
        "destination_file = \"destination.txt\"\n",
        "\n",
        "try:\n",
        "    with open(source_file, 'r') as src, open(destination_file, 'w') as dest:\n",
        "        dest.write(src.read())\n",
        "    print(f\"Content copied from {source_file} to {destination_file}\")\n",
        "except FileNotFoundError:\n",
        "    print(\"Source file not found.\")\n"
      ],
      "metadata": {
        "colab": {
          "base_uri": "https://localhost:8080/"
        },
        "id": "lSKKdv8JrwuO",
        "outputId": "b5ec806e-a747-44d8-b6a7-7ca8a579f10c"
      },
      "execution_count": null,
      "outputs": [
        {
          "output_type": "stream",
          "name": "stdout",
          "text": [
            "Source file not found.\n"
          ]
        }
      ]
    },
    {
      "cell_type": "code",
      "source": [
        "# 5.How would you catch and handle division by zero error in Python?\n",
        "# Answer =\n",
        "try:\n",
        "    result = 10 / 0\n",
        "except ZeroDivisionError:\n",
        "    print(\"Cannot divide by zero.\")\n"
      ],
      "metadata": {
        "colab": {
          "base_uri": "https://localhost:8080/"
        },
        "id": "5Itt1x7wr9Li",
        "outputId": "3c082eda-1bfb-4a7b-87c7-038b7aabbca7"
      },
      "execution_count": null,
      "outputs": [
        {
          "output_type": "stream",
          "name": "stdout",
          "text": [
            "Object `Python` not found.\n"
          ]
        }
      ]
    },
    {
      "cell_type": "code",
      "source": [
        "# 6. Write a Python program that logs an error message to a log file when a division by zero exception occurs?\n",
        "# Answer =\n",
        "import logging\n",
        "\n",
        "logging.basicConfig(filename=\"errors.log\", level=logging.ERROR)\n",
        "\n",
        "try:\n",
        "    result = 10 / 0\n",
        "except ZeroDivisionError as e:\n",
        "    logging.error(\"Division by zero occurred: %s\", e)\n"
      ],
      "metadata": {
        "colab": {
          "base_uri": "https://localhost:8080/"
        },
        "id": "_7K5YoTksBWB",
        "outputId": "ff2eb65d-db23-4eb6-d314-5b789673cd80"
      },
      "execution_count": null,
      "outputs": [
        {
          "output_type": "stream",
          "name": "stderr",
          "text": [
            "ERROR:root:Division by zero occurred: division by zero\n"
          ]
        }
      ]
    },
    {
      "cell_type": "code",
      "source": [
        "# 7.How do you log information at different levels (INFO, ERROR, WARNING) in Python using the logging module?\n",
        "# Answer =\n",
        "import logging\n",
        "\n",
        "logging.basicConfig(level=logging.INFO)\n",
        "\n",
        "logging.info(\"This is an info message.\")\n",
        "logging.warning(\"This is a warning.\")\n",
        "logging.error(\"This is an error.\")\n"
      ],
      "metadata": {
        "id": "kbii5vPqsUTj"
      },
      "execution_count": null,
      "outputs": []
    },
    {
      "cell_type": "code",
      "source": [
        "# 8.Write a program to handle a file opening error using exception handling?\n",
        "# Answer =\n",
        "filename = \"example.txt\"\n",
        "try:\n",
        "    with open(filename, 'r') as file:\n",
        "        print(file.read())\n",
        "except (FileNotFoundError, IOError) as e:\n",
        "    print(f\"Error: {e}\")\n"
      ],
      "metadata": {
        "colab": {
          "base_uri": "https://localhost:8080/"
        },
        "id": "hf65-ko-sbXt",
        "outputId": "023abedb-3a1c-4055-b048-9e0e36f4fae0"
      },
      "execution_count": null,
      "outputs": [
        {
          "output_type": "stream",
          "name": "stdout",
          "text": [
            "Error: [Errno 2] No such file or directory: 'example.txt'\n"
          ]
        }
      ]
    },
    {
      "cell_type": "code",
      "source": [
        "# 9. How can you read a file line by line and store its content in a list in Python?\n",
        "# Answer =\n",
        "filename = \"example.txt\"\n",
        "try:\n",
        "    with open(filename, 'r') as file:\n",
        "        lines = file.readlines()\n",
        "    print(lines)\n",
        "except FileNotFoundError:\n",
        "    print(f\"Error: {filename} not found.\")\n"
      ],
      "metadata": {
        "colab": {
          "base_uri": "https://localhost:8080/"
        },
        "id": "Hw54ZRe1sr9t",
        "outputId": "6a76dbb8-fc21-4985-cada-0d129c72b1e3"
      },
      "execution_count": null,
      "outputs": [
        {
          "output_type": "stream",
          "name": "stdout",
          "text": [
            "Error: example.txt not found.\n"
          ]
        }
      ]
    },
    {
      "cell_type": "code",
      "source": [
        "# 10.How can you append data to an existing file in Python?\n",
        "# Answer =\n",
        "filename = \"example.txt\"\n",
        "with open(filename, 'a') as file:\n",
        "    file.write(\"\\nAdding more data.\")\n"
      ],
      "metadata": {
        "id": "JXOXK6BZs2XW"
      },
      "execution_count": null,
      "outputs": []
    },
    {
      "cell_type": "code",
      "source": [
        "# 11. Write a Python program that uses a try-except block to handle an error when attempting to access a\n",
        "# dictionary key that doesn't exist?\n",
        "# Answer = data = {\"key1\": \"value1\"}\n",
        "try:\n",
        "    print(data[\"key2\"])\n",
        "except KeyError:\n",
        "    print(\"Key not found.\")\n"
      ],
      "metadata": {
        "colab": {
          "base_uri": "https://localhost:8080/",
          "height": 211
        },
        "id": "Tq6yuXjcs-fv",
        "outputId": "1a32406e-2100-42fa-afd3-67c861197509"
      },
      "execution_count": null,
      "outputs": [
        {
          "output_type": "error",
          "ename": "NameError",
          "evalue": "name 'data' is not defined",
          "traceback": [
            "\u001b[0;31m---------------------------------------------------------------------------\u001b[0m",
            "\u001b[0;31mNameError\u001b[0m                                 Traceback (most recent call last)",
            "\u001b[0;32m<ipython-input-12-8bd2173b435e>\u001b[0m in \u001b[0;36m<cell line: 4>\u001b[0;34m()\u001b[0m\n\u001b[1;32m      3\u001b[0m \u001b[0;31m# Answer = data = {\"key1\": \"value1\"}\u001b[0m\u001b[0;34m\u001b[0m\u001b[0;34m\u001b[0m\u001b[0m\n\u001b[1;32m      4\u001b[0m \u001b[0;32mtry\u001b[0m\u001b[0;34m:\u001b[0m\u001b[0;34m\u001b[0m\u001b[0;34m\u001b[0m\u001b[0m\n\u001b[0;32m----> 5\u001b[0;31m     \u001b[0mprint\u001b[0m\u001b[0;34m(\u001b[0m\u001b[0mdata\u001b[0m\u001b[0;34m[\u001b[0m\u001b[0;34m\"key2\"\u001b[0m\u001b[0;34m]\u001b[0m\u001b[0;34m)\u001b[0m\u001b[0;34m\u001b[0m\u001b[0;34m\u001b[0m\u001b[0m\n\u001b[0m\u001b[1;32m      6\u001b[0m \u001b[0;32mexcept\u001b[0m \u001b[0mKeyError\u001b[0m\u001b[0;34m:\u001b[0m\u001b[0;34m\u001b[0m\u001b[0;34m\u001b[0m\u001b[0m\n\u001b[1;32m      7\u001b[0m     \u001b[0mprint\u001b[0m\u001b[0;34m(\u001b[0m\u001b[0;34m\"Key not found.\"\u001b[0m\u001b[0;34m)\u001b[0m\u001b[0;34m\u001b[0m\u001b[0;34m\u001b[0m\u001b[0m\n",
            "\u001b[0;31mNameError\u001b[0m: name 'data' is not defined"
          ]
        }
      ]
    },
    {
      "cell_type": "code",
      "source": [
        "# 12. Write a program that demonstrates using multiple except blocks to handle different types of exceptions?\n",
        "# Answer =\n",
        "try:\n",
        "    result = 10 / 0\n",
        "    value = {\"key\": \"value\"}[\"nonexistent\"]\n",
        "except ZeroDivisionError:\n",
        "    print(\"Caught division by zero.\")\n",
        "except KeyError:\n",
        "    print(\"Caught a missing key.\")\n"
      ],
      "metadata": {
        "colab": {
          "base_uri": "https://localhost:8080/"
        },
        "id": "SloFSGkGtK__",
        "outputId": "1a9dcd42-30bf-40be-b0ec-56cdc712e44e"
      },
      "execution_count": null,
      "outputs": [
        {
          "output_type": "stream",
          "name": "stdout",
          "text": [
            "Caught division by zero.\n"
          ]
        }
      ]
    },
    {
      "cell_type": "code",
      "source": [],
      "metadata": {
        "id": "Hbc15Byctfis"
      },
      "execution_count": null,
      "outputs": []
    },
    {
      "cell_type": "code",
      "source": [],
      "metadata": {
        "id": "ZVVqo7bwtfZg"
      },
      "execution_count": null,
      "outputs": []
    },
    {
      "cell_type": "code",
      "source": [
        "# 13. How would you check if a file exists before attempting to read it in Python?\n",
        "# Answer =\n",
        "import os\n",
        "\n",
        "filename = \"example.txt\"\n",
        "if os.path.exists(filename):\n",
        "    print(f\"{filename} exists.\")\n",
        "else:\n",
        "    print(f\"{filename} does not exist.\")\n"
      ],
      "metadata": {
        "colab": {
          "base_uri": "https://localhost:8080/"
        },
        "id": "dp-SEZL4tbQs",
        "outputId": "5a189086-b996-4701-e5a8-75b547a95157"
      },
      "execution_count": null,
      "outputs": [
        {
          "output_type": "stream",
          "name": "stdout",
          "text": [
            "Object `Python` not found.\n"
          ]
        }
      ]
    },
    {
      "cell_type": "code",
      "source": [
        "# 14.Write a program that uses the logging module to log both informational and error messages?\n",
        "# Answer =\n",
        "import logging\n",
        "\n",
        "logging.basicConfig(filename=\"app.log\", level=logging.INFO)\n",
        "\n",
        "logging.info(\"This is an informational message.\")\n",
        "logging.error(\"This is an error message.\")\n"
      ],
      "metadata": {
        "colab": {
          "base_uri": "https://localhost:8080/"
        },
        "id": "sUGn6Y7LtexC",
        "outputId": "d6985b24-e5e2-4c35-9067-4bac967abac7"
      },
      "execution_count": null,
      "outputs": [
        {
          "output_type": "stream",
          "name": "stderr",
          "text": [
            "ERROR:root:This is an error message.\n"
          ]
        }
      ]
    },
    {
      "cell_type": "code",
      "source": [
        "# 15. Write a Python program that prints the content of a file and handles the case when the file is empty?\n",
        "# Answer =\n",
        "filename = \"example.txt\"\n",
        "try:\n",
        "    with open(filename, 'r') as file:\n",
        "        content = file.read()\n",
        "        if not content.strip():\n",
        "            print(f\"{filename} is empty.\")\n",
        "        else:\n",
        "            print(content)\n",
        "except FileNotFoundError:\n",
        "    print(f\"{filename} not found.\")\n"
      ],
      "metadata": {
        "colab": {
          "base_uri": "https://localhost:8080/"
        },
        "id": "5E1t1jHatyZd",
        "outputId": "49bef5f1-d423-4af7-bb34-268e6b417741"
      },
      "execution_count": null,
      "outputs": [
        {
          "output_type": "stream",
          "name": "stdout",
          "text": [
            "\n",
            "Adding more data.\n"
          ]
        }
      ]
    },
    {
      "cell_type": "code",
      "source": [
        "# 16. Demonstrate how to use memory profiling to check the memory usage of a small program?\n",
        "# Answer =\n",
        "from memory_profiler import profile\n",
        "\n",
        "@profile\n",
        "def example_function():\n",
        "    data = [i for i in range(10000)]\n",
        "    return sum(data)\n",
        "\n",
        "example_function()\n"
      ],
      "metadata": {
        "colab": {
          "base_uri": "https://localhost:8080/",
          "height": 383
        },
        "id": "aiQjgTuAuEiz",
        "outputId": "68e9a3de-4a17-4213-fd31-93e5a1697dbb"
      },
      "execution_count": null,
      "outputs": [
        {
          "output_type": "error",
          "ename": "ModuleNotFoundError",
          "evalue": "No module named 'memory_profiler'",
          "traceback": [
            "\u001b[0;31m---------------------------------------------------------------------------\u001b[0m",
            "\u001b[0;31mModuleNotFoundError\u001b[0m                       Traceback (most recent call last)",
            "\u001b[0;32m<ipython-input-17-69a953c1bba2>\u001b[0m in \u001b[0;36m<cell line: 3>\u001b[0;34m()\u001b[0m\n\u001b[1;32m      1\u001b[0m \u001b[0;31m# 16. Demonstrate how to use memory profiling to check the memory usage of a small program?\u001b[0m\u001b[0;34m\u001b[0m\u001b[0;34m\u001b[0m\u001b[0m\n\u001b[1;32m      2\u001b[0m \u001b[0;31m# Answer =\u001b[0m\u001b[0;34m\u001b[0m\u001b[0;34m\u001b[0m\u001b[0m\n\u001b[0;32m----> 3\u001b[0;31m \u001b[0;32mfrom\u001b[0m \u001b[0mmemory_profiler\u001b[0m \u001b[0;32mimport\u001b[0m \u001b[0mprofile\u001b[0m\u001b[0;34m\u001b[0m\u001b[0;34m\u001b[0m\u001b[0m\n\u001b[0m\u001b[1;32m      4\u001b[0m \u001b[0;34m\u001b[0m\u001b[0m\n\u001b[1;32m      5\u001b[0m \u001b[0;34m@\u001b[0m\u001b[0mprofile\u001b[0m\u001b[0;34m\u001b[0m\u001b[0;34m\u001b[0m\u001b[0m\n",
            "\u001b[0;31mModuleNotFoundError\u001b[0m: No module named 'memory_profiler'",
            "",
            "\u001b[0;31m---------------------------------------------------------------------------\u001b[0;32m\nNOTE: If your import is failing due to a missing package, you can\nmanually install dependencies using either !pip or !apt.\n\nTo view examples of installing some common dependencies, click the\n\"Open Examples\" button below.\n\u001b[0;31m---------------------------------------------------------------------------\u001b[0m\n"
          ],
          "errorDetails": {
            "actions": [
              {
                "action": "open_url",
                "actionText": "Open Examples",
                "url": "/notebooks/snippets/importing_libraries.ipynb"
              }
            ]
          }
        }
      ]
    },
    {
      "cell_type": "code",
      "source": [
        "# 17.Write a Python program to create and write a list of numbers to a file, one number per line?\n",
        "# Answer =\n",
        "numbers = [1, 2, 3, 4, 5]\n",
        "with open(\"numbers.txt\", 'w') as file:\n",
        "    for num in numbers:\n",
        "        file.write(f\"{num}\\n\")\n"
      ],
      "metadata": {
        "id": "kctSPrQyuQ4i"
      },
      "execution_count": null,
      "outputs": []
    },
    {
      "cell_type": "code",
      "source": [
        "# 18.How would you implement a basic logging setup that logs to a file with rotation after 1MB?\n",
        "# Answer =\n",
        "import logging\n",
        "from logging.handlers import RotatingFileHandler\n",
        "\n",
        "handler = RotatingFileHandler(\"app.log\", maxBytes=1024 * 1024, backupCount=3)\n",
        "logging.basicConfig(handlers=[handler], level=logging.INFO)\n",
        "\n",
        "logging.info(\"Logging with rotation setup.\")\n"
      ],
      "metadata": {
        "id": "DNfZfrkpuhnz"
      },
      "execution_count": null,
      "outputs": []
    },
    {
      "cell_type": "code",
      "source": [
        "# 19.Write a program that handles both IndexError and KeyError using a try-except block?\n",
        "# Answer =\n",
        "word_to_count = \"test\"\n",
        "filename = \"example.txt\"\n",
        "\n",
        "try:\n",
        "    with open(filename, 'r') as file:\n",
        "        content = file.read()\n",
        "    count = content.split().count(word_to_count)\n",
        "    print(f\"The word '{word_to_count}' appears {count} times.\")\n",
        "except FileNotFoundError:\n",
        "    print(f\"{filename} not found.\")\n"
      ],
      "metadata": {
        "colab": {
          "base_uri": "https://localhost:8080/"
        },
        "id": "_Zv4XoGUu4CY",
        "outputId": "82321ba0-e9dc-4f03-a314-573d54bbd499"
      },
      "execution_count": null,
      "outputs": [
        {
          "output_type": "stream",
          "name": "stdout",
          "text": [
            "The word 'test' appears 0 times.\n"
          ]
        }
      ]
    },
    {
      "cell_type": "code",
      "source": [
        "# 20.How would you open a file and read its contents using a context manager in Python?\n",
        "# Answer =\n",
        "filename = \"example.txt\"\n",
        "\n",
        "try:\n",
        "    with open(filename, 'r') as file:\n",
        "        content = file.read()\n",
        "        print(content)\n",
        "except FileNotFoundError:\n",
        "    print(f\"The file {filename} does not exist.\")\n"
      ],
      "metadata": {
        "colab": {
          "base_uri": "https://localhost:8080/"
        },
        "id": "WKsFO4sIu_mE",
        "outputId": "e41c62b0-a5d6-4b52-ccb2-ccdaeb3b0eb7"
      },
      "execution_count": null,
      "outputs": [
        {
          "output_type": "stream",
          "name": "stdout",
          "text": [
            "\n",
            "Adding more data.\n"
          ]
        }
      ]
    },
    {
      "cell_type": "code",
      "source": [
        "# 21. Write a Python program that reads a file and prints the number of occurrences of a specific word?\n",
        "# Answer =\n",
        "filename = \"example.txt\"\n",
        "word_to_count = \"test\"\n",
        "\n",
        "try:\n",
        "    with open(filename, 'r') as file:\n",
        "        content = file.read().lower()  # Convert to lowercase for case-insensitive matching\n",
        "    word_count = content.split().count(word_to_count)\n",
        "    print(f\"The word '{word_to_count}' appears {word_count} times in the file.\")\n",
        "except FileNotFoundError:\n",
        "    print(f\"The file {filename} does not exist.\")\n"
      ],
      "metadata": {
        "colab": {
          "base_uri": "https://localhost:8080/"
        },
        "id": "gU402OohvUk2",
        "outputId": "35bba441-1969-4072-da5f-5ea867a1df4c"
      },
      "execution_count": null,
      "outputs": [
        {
          "output_type": "stream",
          "name": "stdout",
          "text": [
            "The word 'test' appears 0 times in the file.\n"
          ]
        }
      ]
    },
    {
      "cell_type": "code",
      "source": [
        "# 22.How can you check if a file is empty before attempting to read its contents?\n",
        "# Answer =\n",
        "import os\n",
        "\n",
        "filename = \"example.txt\"\n",
        "\n",
        "if os.path.exists(filename):\n",
        "    if os.stat(filename).st_size == 0:  # Check file size\n",
        "        print(f\"The file {filename} is empty.\")\n",
        "    else:\n",
        "        with open(filename, 'r') as file:\n",
        "            print(file.read())\n",
        "else:\n",
        "    print(f\"The file {filename} does not exist.\")\n"
      ],
      "metadata": {
        "colab": {
          "base_uri": "https://localhost:8080/"
        },
        "id": "NoanfvAavfCd",
        "outputId": "bee77154-67dd-4df7-d141-669d4965e612"
      },
      "execution_count": null,
      "outputs": [
        {
          "output_type": "stream",
          "name": "stdout",
          "text": [
            "\n",
            "Adding more data.\n"
          ]
        }
      ]
    },
    {
      "cell_type": "code",
      "source": [
        "# 23.Write a Python program that writes to a log file when an error occurs during file handling.\n",
        "# Answer =\n",
        "import logging\n",
        "\n",
        "# Configure logging\n",
        "logging.basicConfig(filename=\"file_errors.log\", level=logging.ERROR)\n",
        "\n",
        "filename = \"example.txt\"\n",
        "\n",
        "try:\n",
        "    with open(filename, 'r') as file:\n",
        "        content = file.read()\n",
        "        print(content)\n",
        "except FileNotFoundError as e:\n",
        "    logging.error(f\"FileNotFoundError: {e}\")\n",
        "    print(\"An error occurred. Check the log file for details.\")\n",
        "except IOError as e:\n",
        "    logging.error(f\"IOError: {e}\")\n",
        "    print(\"An error occurred. Check the log file for details.\")\n"
      ],
      "metadata": {
        "id": "ktPD-01avqdk"
      },
      "execution_count": null,
      "outputs": []
    }
  ]
}